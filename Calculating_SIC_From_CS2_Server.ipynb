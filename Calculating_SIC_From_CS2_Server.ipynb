{
 "cells": [
  {
   "cell_type": "code",
   "execution_count": 1,
   "id": "e2e01c10-29c3-4f53-974e-8634677b0ee2",
   "metadata": {},
   "outputs": [
    {
     "name": "stdout",
     "output_type": "stream",
     "text": [
      "202301\n"
     ]
    },
    {
     "ename": "FileNotFoundError",
     "evalue": "[Errno 2] No such file or directory: '/home/amyswiggs/Chapter2/NWP_CS2_Grids_Cartopy/202301_CountFloesRegrid.npy'",
     "output_type": "error",
     "traceback": [
      "\u001b[0;31m---------------------------------------------------------------------------\u001b[0m",
      "\u001b[0;31mFileNotFoundError\u001b[0m                         Traceback (most recent call last)",
      "Cell \u001b[0;32mIn[1], line 64\u001b[0m\n\u001b[1;32m     62\u001b[0m \u001b[38;5;28;01mfor\u001b[39;00m month \u001b[38;5;129;01min\u001b[39;00m months:\n\u001b[1;32m     63\u001b[0m     \u001b[38;5;28mprint\u001b[39m(\u001b[38;5;28mstr\u001b[39m(year)\u001b[38;5;241m+\u001b[39m\u001b[38;5;28mstr\u001b[39m(month))\n\u001b[0;32m---> 64\u001b[0m     producing_SIC_arrays(source_directory,year,month,output_folder)\n",
      "Cell \u001b[0;32mIn[1], line 24\u001b[0m, in \u001b[0;36mproducing_SIC_arrays\u001b[0;34m(source_directory, year, month, sic_output_folder)\u001b[0m\n\u001b[1;32m     22\u001b[0m \u001b[38;5;28;01mdef\u001b[39;00m \u001b[38;5;21mproducing_SIC_arrays\u001b[39m(source_directory,year,month,sic_output_folder):\n\u001b[0;32m---> 24\u001b[0m     count_min_floes \u001b[38;5;241m=\u001b[39m np\u001b[38;5;241m.\u001b[39mload(source_directory\u001b[38;5;241m+\u001b[39m\u001b[38;5;28mstr\u001b[39m(year)\u001b[38;5;241m+\u001b[39m\u001b[38;5;28mstr\u001b[39m(month)\u001b[38;5;241m+\u001b[39m\u001b[38;5;124m'\u001b[39m\u001b[38;5;124m_CountFloesRegrid.npy\u001b[39m\u001b[38;5;124m'\u001b[39m)\n\u001b[1;32m     25\u001b[0m     count_min_leads \u001b[38;5;241m=\u001b[39m np\u001b[38;5;241m.\u001b[39mload(source_directory\u001b[38;5;241m+\u001b[39m\u001b[38;5;28mstr\u001b[39m(year)\u001b[38;5;241m+\u001b[39m\u001b[38;5;28mstr\u001b[39m(month)\u001b[38;5;241m+\u001b[39m\u001b[38;5;124m'\u001b[39m\u001b[38;5;124m_CountLeadsRegrid.npy\u001b[39m\u001b[38;5;124m'\u001b[39m)\n\u001b[1;32m     26\u001b[0m     count_min_ocean \u001b[38;5;241m=\u001b[39m np\u001b[38;5;241m.\u001b[39mload(source_directory\u001b[38;5;241m+\u001b[39m\u001b[38;5;28mstr\u001b[39m(year)\u001b[38;5;241m+\u001b[39m\u001b[38;5;28mstr\u001b[39m(month)\u001b[38;5;241m+\u001b[39m\u001b[38;5;124m'\u001b[39m\u001b[38;5;124m_CountOceanRegrid.npy\u001b[39m\u001b[38;5;124m'\u001b[39m)\n",
      "File \u001b[0;32m~/anaconda3/envs/map_myenv/lib/python3.12/site-packages/numpy/lib/npyio.py:427\u001b[0m, in \u001b[0;36mload\u001b[0;34m(file, mmap_mode, allow_pickle, fix_imports, encoding, max_header_size)\u001b[0m\n\u001b[1;32m    425\u001b[0m     own_fid \u001b[38;5;241m=\u001b[39m \u001b[38;5;28;01mFalse\u001b[39;00m\n\u001b[1;32m    426\u001b[0m \u001b[38;5;28;01melse\u001b[39;00m:\n\u001b[0;32m--> 427\u001b[0m     fid \u001b[38;5;241m=\u001b[39m stack\u001b[38;5;241m.\u001b[39menter_context(\u001b[38;5;28mopen\u001b[39m(os_fspath(file), \u001b[38;5;124m\"\u001b[39m\u001b[38;5;124mrb\u001b[39m\u001b[38;5;124m\"\u001b[39m))\n\u001b[1;32m    428\u001b[0m     own_fid \u001b[38;5;241m=\u001b[39m \u001b[38;5;28;01mTrue\u001b[39;00m\n\u001b[1;32m    430\u001b[0m \u001b[38;5;66;03m# Code to distinguish from NumPy binary files and pickles.\u001b[39;00m\n",
      "\u001b[0;31mFileNotFoundError\u001b[0m: [Errno 2] No such file or directory: '/home/amyswiggs/Chapter2/NWP_CS2_Grids_Cartopy/202301_CountFloesRegrid.npy'"
     ]
    }
   ],
   "source": [
    "# Import packages\n",
    "import numpy as np\n",
    "from numpy import transpose as T\n",
    "from numpy import genfromtxt as gftxt\n",
    "import matplotlib.pyplot as plt\n",
    "import matplotlib.colors as mcolors\n",
    "import glob\n",
    "import pandas as pd\n",
    "import os\n",
    "import cartopy\n",
    "import cartopy.crs as ccrs\n",
    "import scipy\n",
    "from scipy import stats\n",
    "\n",
    "# Functions \n",
    "\n",
    "def includingambiguous_power_law_floes(x):\n",
    "    return 63.21806139*x**0.094760358\n",
    "def includingambiguous_power_law_leads(x):\n",
    "    return 1.09261304*x**0.725318203\n",
    "\n",
    "def producing_SIC_arrays(source_directory,year,month,sic_output_folder):\n",
    "    \n",
    "    count_min_floes = np.load(source_directory+str(year)+str(month)+'_CountFloesRegrid.npy')\n",
    "    count_min_leads = np.load(source_directory+str(year)+str(month)+'_CountLeadsRegrid.npy')\n",
    "    count_min_ocean = np.load(source_directory+str(year)+str(month)+'_CountOceanRegrid.npy')\n",
    "    \n",
    "    # Original\n",
    "    \n",
    "    total_values_count = (count_min_floes + count_min_leads + count_min_ocean)\n",
    "    \n",
    "    sic = (count_min_floes / (count_min_floes + count_min_leads + count_min_ocean)) *100 \n",
    "    sic_lead_mask = np.where(total_values_count==count_min_leads,np.nan,sic)\n",
    "    \n",
    "    np.save(sic_output_folder+'Original/'+str(year)+str(month)+'_Original_CS2_SIC_Regrid.npy',sic_lead_mask)\n",
    "    \n",
    "    # Corrected \n",
    "\n",
    "    corrected_leads_ambiguous = includingambiguous_power_law_leads(count_min_leads)\n",
    "    corrected_floes_ambiguous = includingambiguous_power_law_floes(count_min_floes)\n",
    "\n",
    "    total_values_count_corrected = (corrected_floes_ambiguous + corrected_leads_ambiguous + count_min_ocean)\n",
    "\n",
    "\n",
    "    sic_corrected = (corrected_floes_ambiguous / (corrected_leads_ambiguous + corrected_floes_ambiguous + count_min_ocean))*100\n",
    "    sic_corrected_lead_mask = np.where(total_values_count_corrected==corrected_leads_ambiguous,np.nan,sic_corrected)\n",
    "    \n",
    "    np.save(sic_output_folder+'Corrected/'+str(year)+str(month)+'_Corrected_CS2_SIC_Regrid.npy',sic_corrected_lead_mask)\n",
    "\n",
    "# Calculate & Save Arrays\n",
    "\n",
    "source_directory = ('/home/amyswiggs/Chapter2/NWP_CS2_Grids_Cartopy/')\n",
    "\n",
    "output_folder = ('/home/amyswiggs/Chapter2/NWP_CS2_SIC_DroppedOcean/')\n",
    "\n",
    "#years = ['2011','2012','2013','2014','2015','2016','2017','2018','2019','2020','2021','2022']\n",
    "years = ['2023']\n",
    "months = ['01','02','03','04','05','09','10','11','12']\n",
    "#years = ['2010']\n",
    "#months = ['10','11','12']\n",
    "for year in years:\n",
    "    for month in months:\n",
    "        print(str(year)+str(month))\n",
    "        producing_SIC_arrays(source_directory,year,month,output_folder)\n"
   ]
  }
 ],
 "metadata": {
  "kernelspec": {
   "display_name": "Python 3 (ipykernel)",
   "language": "python",
   "name": "python3"
  },
  "language_info": {
   "codemirror_mode": {
    "name": "ipython",
    "version": 3
   },
   "file_extension": ".py",
   "mimetype": "text/x-python",
   "name": "python",
   "nbconvert_exporter": "python",
   "pygments_lexer": "ipython3",
   "version": "3.12.3"
  }
 },
 "nbformat": 4,
 "nbformat_minor": 5
}
